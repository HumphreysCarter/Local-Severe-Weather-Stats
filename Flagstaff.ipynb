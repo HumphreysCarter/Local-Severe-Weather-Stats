{
 "cells": [
  {
   "cell_type": "code",
   "execution_count": 1,
   "metadata": {},
   "outputs": [],
   "source": [
    "import math\n",
    "import cdsapi\n",
    "import pandas as pd\n",
    "import matplotlib.pyplot as plt\n",
    "from os.path import isfile\n",
    "from metpy.units import units\n",
    "from datetime import datetime, timedelta"
   ]
  },
  {
   "cell_type": "code",
   "execution_count": 2,
   "metadata": {},
   "outputs": [],
   "source": [
    "def getNewLatLon(lat, lon, bearing, distance):\n",
    "    \"\"\"\n",
    "    Calcualtes a new lat, lon pair from bearing and distance\n",
    "    \"\"\"\n",
    "    # Average radius of the earth\n",
    "    earth_r = 6371 * units.km\n",
    "\n",
    "    originLatInRadians = math.radians(lat)\n",
    "    originLonInRadians = math.radians(lon)\n",
    "    angularDistance = distance.to('km').magnitude / earth_r.magnitude\n",
    "    bearingInRadians = math.radians(bearing)\n",
    "\n",
    "    # Calculate new latitude\n",
    "    new_lat = math.asin(math.sin(originLatInRadians) * math.cos(angularDistance) + math.cos(originLatInRadians) * \n",
    "                                 math.sin(angularDistance) * math.cos(bearingInRadians))\n",
    "\n",
    "    # Calculate new longitude\n",
    "    new_lon = originLonInRadians + math.atan2(math.sin(bearingInRadians) * math.sin(angularDistance) * \n",
    "                                                       math.cos(originLatInRadians), math.cos(angularDistance) - math.sin(originLatInRadians) * math.sin(new_lat))\n",
    "    # Convert from radians to degrees\n",
    "    new_lon = math.degrees(new_lon)\n",
    "    new_lat = math.degrees(new_lat)\n",
    "\n",
    "    return (new_lon, new_lat)"
   ]
  },
  {
   "cell_type": "code",
   "execution_count": 3,
   "metadata": {},
   "outputs": [],
   "source": [
    "def distanceBetweenPoints(lat1, lon1, lat2, lon2, unit='km'):\n",
    "    \"\"\"\n",
    "    Haversine formula to calculate the great-circle distance between two points\n",
    "    \"\"\"\n",
    "    # Average radius of the earth\n",
    "    earth_r = 6371 * units.km\n",
    "\n",
    "    # Get lat lon pairs in radians\n",
    "    lat1, lon1 = math.radians(lat1), math.radians(lon1)\n",
    "    lat2, lon2 = math.radians(lat2), math.radians(lon2)\n",
    "\n",
    "    # Get delta lat lon\n",
    "    deltaLat = lat2-lat1\n",
    "    deltaLon = lon2-lon1\n",
    "\n",
    "    a = math.sin(deltaLat/2) * math.sin(deltaLat/2) + math.cos(lat1) * math.cos(lat2) * math.sin(deltaLon/2) * math.sin(deltaLon/2)\n",
    "    c = 2 * math.atan2(math.sqrt(a), math.sqrt(1-a))\n",
    "\n",
    "    return (earth_r * c).to(units(unit))"
   ]
  },
  {
   "cell_type": "code",
   "execution_count": 4,
   "metadata": {},
   "outputs": [],
   "source": [
    "def build_local_db(db, local_lat, local_lon, max_d, syear=1950, eyear=datetime.now().year):\n",
    "    \"\"\"\n",
    "    Generate a local database of severe reports from main SPC database\n",
    "    \"\"\"\n",
    "    # Initilize local database\n",
    "    db_local = pd.DataFrame(columns=db.columns)\n",
    "\n",
    "    # Calculate extent\n",
    "    n_extent = getNewLatLon(local_lat, local_lon, 360, max_d)[1]\n",
    "    s_extent = getNewLatLon(local_lat, local_lon, 180, max_d)[1]\n",
    "    e_extent = getNewLatLon(local_lat, local_lon, 90, max_d)[0]\n",
    "    w_extent = getNewLatLon(local_lat, local_lon, 270, max_d)[0]\n",
    "    \n",
    "    # Subset database based on years\n",
    "    db = db.loc[(db.yr >= syear) & (db.yr <=eyear)]\n",
    "    \n",
    "    # Subset database based on on extent box\n",
    "    db = db.loc[(db.slat >= s_extent) & (db.slat <= n_extent) & (db.slon >= w_extent) & (db.slon <= e_extent)]\n",
    "    \n",
    "    # Get local LSRs within radius\n",
    "    for index, lsr in db.iterrows():\n",
    "        \n",
    "        # Get distance of lat lon pair\n",
    "        d = distanceBetweenPoints(local_lat, local_lon, lsr.slat, lsr.slon)\n",
    "\n",
    "        # Check if within acceptable range\n",
    "        if d <= max_distance:\n",
    "            db_local = db_local.append(lsr)\n",
    "            \n",
    "    # Set data types\n",
    "    db_local = db_local.astype({'yr': 'int32'})\n",
    "    db_local = db_local.astype({'mo': 'int32'})\n",
    "    db_local = db_local.astype({'dy': 'int32'})\n",
    "    db_local = db_local.astype({'mag': 'float64'})\n",
    "    \n",
    "    # Convert time from CST (UTC-6) to UTC\n",
    "    db_local.time = pd.to_datetime(db_local.time, format='%H:%M:%S')\n",
    "    db_local.time = db_local.time + timedelta(hours=6)\n",
    "    \n",
    "    # Bin time based on hour\n",
    "    db_local.time = db_local.time.dt.hour\n",
    "    \n",
    "    return db_local"
   ]
  },
  {
   "cell_type": "code",
   "execution_count": 5,
   "metadata": {},
   "outputs": [],
   "source": [
    "def download_era5(analysisTime):\n",
    "    \"\"\"\n",
    "    Download ERA5 reanalysis for a given data and time\n",
    "    \"\"\"\n",
    "    # Build file path\n",
    "    outpath = f'/home/pi/workspace/Local-Severe-Weather-Stats/data/era5/era5-reanalysis_{analysisTime:%Y%m%d_%H%M}.nc'\n",
    "    \n",
    "    # Check if file exists\n",
    "    if isfile(outpath) == False:\n",
    "    \n",
    "        # Start CDS API client\n",
    "        c = cdsapi.Client()\n",
    "\n",
    "        # Make CDS API request for ERA5 reanalysis\n",
    "        c.retrieve(\n",
    "    'reanalysis-era5-pressure-levels',\n",
    "    {\n",
    "        'product_type': 'reanalysis',\n",
    "        'format': 'netcdf',\n",
    "        'variable': [\n",
    "            'geopotential', 'relative_humidity', 'temperature',\n",
    "            'u_component_of_wind', 'v_component_of_wind',\n",
    "        ],\n",
    "        'pressure_level': [\n",
    "            '100', '125', '150',\n",
    "            '175', '200', '225',\n",
    "            '250', '300', '350',\n",
    "            '400', '450', '500',\n",
    "            '550', '600', '650',\n",
    "            '700', '750', '775',\n",
    "            '800', '825', '850',\n",
    "            '875', '900', '925',\n",
    "            '950', '975', '1000',\n",
    "        ],\n",
    "        'year': f'{analysisTime:%Y}',\n",
    "        'month': f'{analysisTime:%m}',\n",
    "        'day': f'{analysisTime:%d}',\n",
    "        'time': f'{analysisTime:%H:%M}',\n",
    "        'area': [80.24, -149.06, 15.28, -47.81],\n",
    "    }, outpath)"
   ]
  },
  {
   "cell_type": "code",
   "execution_count": 6,
   "metadata": {},
   "outputs": [],
   "source": [
    "def get_db_reanalysis(db):\n",
    "    \"\"\"\n",
    "    Downloads ERA5 reanalysis dataset for each event in dataset\n",
    "    \"\"\"\n",
    "    for year, month, day, hour in zip(db.yr, db.mo, db.dy, db.time):\n",
    "\n",
    "        eventTime = datetime(year, month, day, hour)\n",
    "\n",
    "        download_era5(eventTime)"
   ]
  },
  {
   "cell_type": "code",
   "execution_count": 7,
   "metadata": {},
   "outputs": [],
   "source": [
    "latitude  = 35.14\n",
    "longitude = -111.67\n",
    "max_distance = 150 * units.km\n",
    "syear = 1979\n",
    "eyear = 2019"
   ]
  },
  {
   "cell_type": "code",
   "execution_count": 8,
   "metadata": {},
   "outputs": [
    {
     "name": "stderr",
     "output_type": "stream",
     "text": [
      "/usr/local/lib/python3.7/dist-packages/IPython/core/interactiveshell.py:3063: DtypeWarning: Columns (28) have mixed types.Specify dtype option on import or set low_memory=False.\n",
      "  interactivity=interactivity, compiler=compiler, result=result)\n"
     ]
    }
   ],
   "source": [
    "# Load Tornado LSR data\n",
    "tor = pd.read_csv('/home/pi/workspace/Local-Severe-Weather-Stats/data/1950-2019_torn.csv')\n",
    "tor = tor[['yr', 'mo', 'dy', 'time', 'mag', 'slat', 'slon', 'elat', 'elon']]\n",
    "\n",
    "# Load Hail LSR data\n",
    "hail = pd.read_csv('/home/pi/workspace/Local-Severe-Weather-Stats/data/1955-2019_hail.csv')\n",
    "hail = hail[['yr', 'mo', 'dy', 'time', 'mag', 'slat', 'slon', 'elat', 'elon']]\n",
    "\n",
    "# Load Wind LSR data\n",
    "wind = pd.read_csv('/home/pi/workspace/Local-Severe-Weather-Stats/data/1955-2019_wind.csv')\n",
    "wind = wind[['yr', 'mo', 'dy', 'time', 'mag', 'slat', 'slon', 'elat', 'elon']]"
   ]
  },
  {
   "cell_type": "code",
   "execution_count": 9,
   "metadata": {},
   "outputs": [
    {
     "data": {
      "text/html": [
       "<div>\n",
       "<style scoped>\n",
       "    .dataframe tbody tr th:only-of-type {\n",
       "        vertical-align: middle;\n",
       "    }\n",
       "\n",
       "    .dataframe tbody tr th {\n",
       "        vertical-align: top;\n",
       "    }\n",
       "\n",
       "    .dataframe thead th {\n",
       "        text-align: right;\n",
       "    }\n",
       "</style>\n",
       "<table border=\"1\" class=\"dataframe\">\n",
       "  <thead>\n",
       "    <tr style=\"text-align: right;\">\n",
       "      <th></th>\n",
       "      <th>mo</th>\n",
       "      <th>dy</th>\n",
       "      <th>time</th>\n",
       "      <th>mag</th>\n",
       "    </tr>\n",
       "  </thead>\n",
       "  <tbody>\n",
       "    <tr>\n",
       "      <th>count</th>\n",
       "      <td>56.000000</td>\n",
       "      <td>56.000000</td>\n",
       "      <td>56.000000</td>\n",
       "      <td>56.000000</td>\n",
       "    </tr>\n",
       "    <tr>\n",
       "      <th>mean</th>\n",
       "      <td>7.910714</td>\n",
       "      <td>15.178571</td>\n",
       "      <td>15.071429</td>\n",
       "      <td>0.375000</td>\n",
       "    </tr>\n",
       "    <tr>\n",
       "      <th>std</th>\n",
       "      <td>2.314200</td>\n",
       "      <td>7.687315</td>\n",
       "      <td>7.617819</td>\n",
       "      <td>0.776062</td>\n",
       "    </tr>\n",
       "    <tr>\n",
       "      <th>min</th>\n",
       "      <td>1.000000</td>\n",
       "      <td>1.000000</td>\n",
       "      <td>0.000000</td>\n",
       "      <td>0.000000</td>\n",
       "    </tr>\n",
       "    <tr>\n",
       "      <th>25%</th>\n",
       "      <td>7.000000</td>\n",
       "      <td>7.500000</td>\n",
       "      <td>12.750000</td>\n",
       "      <td>0.000000</td>\n",
       "    </tr>\n",
       "    <tr>\n",
       "      <th>50%</th>\n",
       "      <td>9.000000</td>\n",
       "      <td>15.500000</td>\n",
       "      <td>18.500000</td>\n",
       "      <td>0.000000</td>\n",
       "    </tr>\n",
       "    <tr>\n",
       "      <th>75%</th>\n",
       "      <td>10.000000</td>\n",
       "      <td>21.250000</td>\n",
       "      <td>20.000000</td>\n",
       "      <td>0.000000</td>\n",
       "    </tr>\n",
       "    <tr>\n",
       "      <th>max</th>\n",
       "      <td>10.000000</td>\n",
       "      <td>31.000000</td>\n",
       "      <td>23.000000</td>\n",
       "      <td>3.000000</td>\n",
       "    </tr>\n",
       "  </tbody>\n",
       "</table>\n",
       "</div>"
      ],
      "text/plain": [
       "              mo         dy       time        mag\n",
       "count  56.000000  56.000000  56.000000  56.000000\n",
       "mean    7.910714  15.178571  15.071429   0.375000\n",
       "std     2.314200   7.687315   7.617819   0.776062\n",
       "min     1.000000   1.000000   0.000000   0.000000\n",
       "25%     7.000000   7.500000  12.750000   0.000000\n",
       "50%     9.000000  15.500000  18.500000   0.000000\n",
       "75%    10.000000  21.250000  20.000000   0.000000\n",
       "max    10.000000  31.000000  23.000000   3.000000"
      ]
     },
     "execution_count": 9,
     "metadata": {},
     "output_type": "execute_result"
    }
   ],
   "source": [
    "# Get local Tornado LSR data\n",
    "tor_local = build_local_db(tor, latitude, longitude, max_distance, syear, eyear)\n",
    "tor_local[['mo', 'dy', 'time', 'mag']].describe()"
   ]
  },
  {
   "cell_type": "code",
   "execution_count": 10,
   "metadata": {},
   "outputs": [
    {
     "data": {
      "image/png": "[encoded data removed]",
      "text/plain": [
       "<Figure size 1440x576 with 3 Axes>"
      ]
     },
     "metadata": {
      "needs_background": "light"
     },
     "output_type": "display_data"
    }
   ],
   "source": [
    "# Create plot for Tornado LSR data\n",
    "fig, (ax0, ax1, ax2) = plt.subplots(nrows=1, ncols=3, figsize=(20, 8))\n",
    "\n",
    "tor_local.hist('mo', ax=ax0)\n",
    "tor_local.hist('time', ax=ax1)\n",
    "tor_local.hist('mag', ax=ax2)\n",
    "\n",
    "ax0.set_title('Frequency by Month')\n",
    "ax0.set_xlim(1, 12)\n",
    "\n",
    "ax1.set_title('Frequency by Time (UTC)')\n",
    "ax2.set_xlim(0, 23)\n",
    "\n",
    "ax2.set_title('Frequency by Magnitude (EF-Scale)')\n",
    "ax2.set_xlim(0, 5)\n",
    "\n",
    "plt.suptitle(f'Tornado LSRs within {max_distance} of {latitude}, {longitude} from 1950-2019', size=18)\n",
    "\n",
    "plt.show()"
   ]
  },
  {
   "cell_type": "code",
   "execution_count": 11,
   "metadata": {},
   "outputs": [
    {
     "data": {
      "text/html": [
       "<div>\n",
       "<style scoped>\n",
       "    .dataframe tbody tr th:only-of-type {\n",
       "        vertical-align: middle;\n",
       "    }\n",
       "\n",
       "    .dataframe tbody tr th {\n",
       "        vertical-align: top;\n",
       "    }\n",
       "\n",
       "    .dataframe thead th {\n",
       "        text-align: right;\n",
       "    }\n",
       "</style>\n",
       "<table border=\"1\" class=\"dataframe\">\n",
       "  <thead>\n",
       "    <tr style=\"text-align: right;\">\n",
       "      <th></th>\n",
       "      <th>mo</th>\n",
       "      <th>dy</th>\n",
       "      <th>time</th>\n",
       "      <th>mag</th>\n",
       "    </tr>\n",
       "  </thead>\n",
       "  <tbody>\n",
       "    <tr>\n",
       "      <th>count</th>\n",
       "      <td>365.000000</td>\n",
       "      <td>365.000000</td>\n",
       "      <td>365.000000</td>\n",
       "      <td>365.000000</td>\n",
       "    </tr>\n",
       "    <tr>\n",
       "      <th>mean</th>\n",
       "      <td>7.887671</td>\n",
       "      <td>14.843836</td>\n",
       "      <td>16.287671</td>\n",
       "      <td>1.090082</td>\n",
       "    </tr>\n",
       "    <tr>\n",
       "      <th>std</th>\n",
       "      <td>1.338765</td>\n",
       "      <td>8.482383</td>\n",
       "      <td>7.813203</td>\n",
       "      <td>0.456048</td>\n",
       "    </tr>\n",
       "    <tr>\n",
       "      <th>min</th>\n",
       "      <td>2.000000</td>\n",
       "      <td>1.000000</td>\n",
       "      <td>0.000000</td>\n",
       "      <td>0.750000</td>\n",
       "    </tr>\n",
       "    <tr>\n",
       "      <th>25%</th>\n",
       "      <td>7.000000</td>\n",
       "      <td>8.000000</td>\n",
       "      <td>15.000000</td>\n",
       "      <td>0.750000</td>\n",
       "    </tr>\n",
       "    <tr>\n",
       "      <th>50%</th>\n",
       "      <td>8.000000</td>\n",
       "      <td>14.000000</td>\n",
       "      <td>20.000000</td>\n",
       "      <td>1.000000</td>\n",
       "    </tr>\n",
       "    <tr>\n",
       "      <th>75%</th>\n",
       "      <td>9.000000</td>\n",
       "      <td>22.000000</td>\n",
       "      <td>21.000000</td>\n",
       "      <td>1.000000</td>\n",
       "    </tr>\n",
       "    <tr>\n",
       "      <th>max</th>\n",
       "      <td>10.000000</td>\n",
       "      <td>31.000000</td>\n",
       "      <td>23.000000</td>\n",
       "      <td>4.500000</td>\n",
       "    </tr>\n",
       "  </tbody>\n",
       "</table>\n",
       "</div>"
      ],
      "text/plain": [
       "               mo          dy        time         mag\n",
       "count  365.000000  365.000000  365.000000  365.000000\n",
       "mean     7.887671   14.843836   16.287671    1.090082\n",
       "std      1.338765    8.482383    7.813203    0.456048\n",
       "min      2.000000    1.000000    0.000000    0.750000\n",
       "25%      7.000000    8.000000   15.000000    0.750000\n",
       "50%      8.000000   14.000000   20.000000    1.000000\n",
       "75%      9.000000   22.000000   21.000000    1.000000\n",
       "max     10.000000   31.000000   23.000000    4.500000"
      ]
     },
     "execution_count": 11,
     "metadata": {},
     "output_type": "execute_result"
    }
   ],
   "source": [
    "# Get local Hail LSR data\n",
    "hail_local = build_local_db(hail, latitude, longitude, max_distance)\n",
    "hail_local[['mo', 'dy', 'time', 'mag']].describe()"
   ]
  },
  {
   "cell_type": "code",
   "execution_count": 12,
   "metadata": {},
   "outputs": [
    {
     "data": {
      "image/png": "[encoded data removed]",
      "text/plain": [
       "<Figure size 1440x576 with 3 Axes>"
      ]
     },
     "metadata": {
      "needs_background": "light"
     },
     "output_type": "display_data"
    }
   ],
   "source": [
    "# Create plot for Hail LSR data\n",
    "fig, (ax0, ax1, ax2) = plt.subplots(nrows=1, ncols=3, figsize=(20, 8))\n",
    "\n",
    "hail_local.hist('mo', ax=ax0)\n",
    "hail_local.hist('time', ax=ax1)\n",
    "hail_local.hist('mag', ax=ax2)\n",
    "\n",
    "ax0.set_title('Frequency by Month')\n",
    "ax0.set_xlim(1, 12)\n",
    "\n",
    "ax1.set_title('Frequency by Time (UTC)')\n",
    "ax1.set_xlim(0, 23)\n",
    "\n",
    "ax2.set_title('Frequency by Magnitude (inches)')\n",
    "ax2.set_xlim(0, 5)\n",
    "\n",
    "plt.suptitle(f'Hail LSRs within {max_distance} of {latitude}, {longitude} from 1955-2019', size=18)\n",
    "\n",
    "plt.show()"
   ]
  },
  {
   "cell_type": "code",
   "execution_count": 13,
   "metadata": {},
   "outputs": [
    {
     "data": {
      "text/html": [
       "<div>\n",
       "<style scoped>\n",
       "    .dataframe tbody tr th:only-of-type {\n",
       "        vertical-align: middle;\n",
       "    }\n",
       "\n",
       "    .dataframe tbody tr th {\n",
       "        vertical-align: top;\n",
       "    }\n",
       "\n",
       "    .dataframe thead th {\n",
       "        text-align: right;\n",
       "    }\n",
       "</style>\n",
       "<table border=\"1\" class=\"dataframe\">\n",
       "  <thead>\n",
       "    <tr style=\"text-align: right;\">\n",
       "      <th></th>\n",
       "      <th>mo</th>\n",
       "      <th>dy</th>\n",
       "      <th>time</th>\n",
       "      <th>mag</th>\n",
       "    </tr>\n",
       "  </thead>\n",
       "  <tbody>\n",
       "    <tr>\n",
       "      <th>count</th>\n",
       "      <td>210.000000</td>\n",
       "      <td>210.000000</td>\n",
       "      <td>210.000000</td>\n",
       "      <td>210.000000</td>\n",
       "    </tr>\n",
       "    <tr>\n",
       "      <th>mean</th>\n",
       "      <td>7.342857</td>\n",
       "      <td>15.080952</td>\n",
       "      <td>11.685714</td>\n",
       "      <td>44.857143</td>\n",
       "    </tr>\n",
       "    <tr>\n",
       "      <th>std</th>\n",
       "      <td>1.419809</td>\n",
       "      <td>9.238370</td>\n",
       "      <td>9.996472</td>\n",
       "      <td>22.690313</td>\n",
       "    </tr>\n",
       "    <tr>\n",
       "      <th>min</th>\n",
       "      <td>1.000000</td>\n",
       "      <td>1.000000</td>\n",
       "      <td>0.000000</td>\n",
       "      <td>0.000000</td>\n",
       "    </tr>\n",
       "    <tr>\n",
       "      <th>25%</th>\n",
       "      <td>7.000000</td>\n",
       "      <td>6.000000</td>\n",
       "      <td>1.000000</td>\n",
       "      <td>50.000000</td>\n",
       "    </tr>\n",
       "    <tr>\n",
       "      <th>50%</th>\n",
       "      <td>7.000000</td>\n",
       "      <td>15.000000</td>\n",
       "      <td>13.000000</td>\n",
       "      <td>52.000000</td>\n",
       "    </tr>\n",
       "    <tr>\n",
       "      <th>75%</th>\n",
       "      <td>8.000000</td>\n",
       "      <td>24.000000</td>\n",
       "      <td>22.000000</td>\n",
       "      <td>58.000000</td>\n",
       "    </tr>\n",
       "    <tr>\n",
       "      <th>max</th>\n",
       "      <td>11.000000</td>\n",
       "      <td>31.000000</td>\n",
       "      <td>23.000000</td>\n",
       "      <td>100.000000</td>\n",
       "    </tr>\n",
       "  </tbody>\n",
       "</table>\n",
       "</div>"
      ],
      "text/plain": [
       "               mo          dy        time         mag\n",
       "count  210.000000  210.000000  210.000000  210.000000\n",
       "mean     7.342857   15.080952   11.685714   44.857143\n",
       "std      1.419809    9.238370    9.996472   22.690313\n",
       "min      1.000000    1.000000    0.000000    0.000000\n",
       "25%      7.000000    6.000000    1.000000   50.000000\n",
       "50%      7.000000   15.000000   13.000000   52.000000\n",
       "75%      8.000000   24.000000   22.000000   58.000000\n",
       "max     11.000000   31.000000   23.000000  100.000000"
      ]
     },
     "execution_count": 13,
     "metadata": {},
     "output_type": "execute_result"
    }
   ],
   "source": [
    "# Get local Wind LSR data\n",
    "wind_local = build_local_db(wind, latitude, longitude, max_distance)\n",
    "wind_local[['mo', 'dy', 'time', 'mag']].describe()"
   ]
  },
  {
   "cell_type": "code",
   "execution_count": 14,
   "metadata": {},
   "outputs": [
    {
     "data": {
      "image/png": "[encoded data removed]",
      "text/plain": [
       "<Figure size 1440x576 with 3 Axes>"
      ]
     },
     "metadata": {
      "needs_background": "light"
     },
     "output_type": "display_data"
    }
   ],
   "source": [
    "# Create plot for Wind LSR data\n",
    "fig, (ax0, ax1, ax2) = plt.subplots(nrows=1, ncols=3, figsize=(20, 8))\n",
    "\n",
    "wind_local.hist('mo', ax=ax0)\n",
    "wind_local.hist('time', ax=ax1)\n",
    "wind_local.hist('mag', ax=ax2)\n",
    "\n",
    "ax0.set_title('Frequency by Month')\n",
    "ax0.set_xlim(1, 12)\n",
    "\n",
    "ax1.set_title('Frequency by Time (UTC)')\n",
    "ax1.set_xlim(0, 23)\n",
    "\n",
    "ax2.set_title('Frequency by Magnitude (kts)')\n",
    "ax2.set_xlim(0, 100)\n",
    "\n",
    "plt.suptitle(f'Wind LSRs within {max_distance} of {latitude}, {longitude} from 1955-2019', size=18)\n",
    "\n",
    "plt.show()"
   ]
  },
  {
   "cell_type": "code",
   "execution_count": null,
   "metadata": {},
   "outputs": [
    {
     "name": "stderr",
     "output_type": "stream",
     "text": [
      "2021-04-19 11:53:31,988 INFO Welcome to the CDS\n",
      "2021-04-19 11:53:31,992 INFO Sending request to https://cds.climate.copernicus.eu/api/v2/resources/reanalysis-era5-pressure-levels\n",
      "2021-04-19 11:53:32,229 INFO Request is completed\n",
      "2021-04-19 11:53:32,232 INFO Downloading https://download-0013.copernicus-climate.eu/cache-compute-0013/cache/data0/adaptor.mars.internal-1618858176.465884-16226-8-bc75a33a-cb18-4c45-9479-d7d1b28102d8.nc to /home/pi/workspace/Local-Severe-Weather-Stats/data/era5/era5-reanalysis_19930118_2000.nc (27.2M)\n",
      "2021-04-19 11:53:49,870 INFO Download rate 1.5M/s   \n",
      "2021-04-19 11:53:50,197 INFO Welcome to the CDS\n",
      "2021-04-19 11:53:50,198 INFO Sending request to https://cds.climate.copernicus.eu/api/v2/resources/reanalysis-era5-pressure-levels\n",
      "2021-04-19 11:53:50,405 INFO Request is queued\n"
     ]
    }
   ],
   "source": [
    "# Get ERA5 reanalysis data for local Tornado LSRs\n",
    "get_db_reanalysis(tor_local)"
   ]
  },
  {
   "cell_type": "code",
   "execution_count": null,
   "metadata": {},
   "outputs": [],
   "source": [
    "# Get ERA5 reanalysis data for local Hail LSRs\n",
    "get_db_reanalysis(hail_local)"
   ]
  },
  {
   "cell_type": "code",
   "execution_count": null,
   "metadata": {},
   "outputs": [],
   "source": [
    "# Get ERA5 reanalysis data for local Wind LSRs\n",
    "get_db_reanalysis(wind_local)"
   ]
  },
  {
   "cell_type": "code",
   "execution_count": null,
   "metadata": {},
   "outputs": [],
   "source": []
  }
 ],
 "metadata": {
  "kernelspec": {
   "display_name": "Python 3",
   "language": "python",
   "name": "python3"
  },
  "language_info": {
   "codemirror_mode": {
    "name": "ipython",
    "version": 3
   },
   "file_extension": ".py",
   "mimetype": "text/x-python",
   "name": "python",
   "nbconvert_exporter": "python",
   "pygments_lexer": "ipython3",
   "version": "3.7.3"
  }
 },
 "nbformat": 4,
 "nbformat_minor": 4
}
