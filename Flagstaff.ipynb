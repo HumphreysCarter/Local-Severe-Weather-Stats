{
 "cells": [
  {
   "cell_type": "code",
   "execution_count": 64,
   "metadata": {},
   "outputs": [],
   "source": [
    "import math\n",
    "import pandas as pd\n",
    "import matplotlib.pyplot as plt\n",
    "from metpy.units import units\n",
    "from datetime import timedelta"
   ]
  },
  {
   "cell_type": "code",
   "execution_count": 65,
   "metadata": {},
   "outputs": [],
   "source": [
    "def getNewLatLon(lat, lon, bearing, distance):\n",
    "    \"\"\"\n",
    "    Calcualtes a new lat, lon pair from bearing and distance\n",
    "    \"\"\"\n",
    "    # Average radius of the earth\n",
    "    earth_r = 6371 * units.km\n",
    "\n",
    "    originLatInRadians = math.radians(lat)\n",
    "    originLonInRadians = math.radians(lon)\n",
    "    angularDistance = distance.to('km').magnitude / earth_r.magnitude\n",
    "    bearingInRadians = math.radians(bearing)\n",
    "\n",
    "    # Calculate new latitude\n",
    "    new_lat = math.asin(math.sin(originLatInRadians) * math.cos(angularDistance) + math.cos(originLatInRadians) * \n",
    "                                 math.sin(angularDistance) * math.cos(bearingInRadians))\n",
    "\n",
    "    # Calculate new longitude\n",
    "    new_lon = originLonInRadians + math.atan2(math.sin(bearingInRadians) * math.sin(angularDistance) * \n",
    "                                                       math.cos(originLatInRadians), math.cos(angularDistance) - math.sin(originLatInRadians) * math.sin(new_lat))\n",
    "    # Convert from radians to degrees\n",
    "    new_lon = math.degrees(new_lon)\n",
    "    new_lat = math.degrees(new_lat)\n",
    "\n",
    "    return (new_lon, new_lat)"
   ]
  },
  {
   "cell_type": "code",
   "execution_count": 66,
   "metadata": {},
   "outputs": [],
   "source": [
    "def distanceBetweenPoints(lat1, lon1, lat2, lon2, unit='km'):\n",
    "    \"\"\"\n",
    "    Haversine formula to calculate the great-circle distance between two points\n",
    "    \"\"\"\n",
    "    # Average radius of the earth\n",
    "    earth_r = 6371 * units.km\n",
    "\n",
    "    # Get lat lon pairs in radians\n",
    "    lat1, lon1 = math.radians(lat1), math.radians(lon1)\n",
    "    lat2, lon2 = math.radians(lat2), math.radians(lon2)\n",
    "\n",
    "    # Get delta lat lon\n",
    "    deltaLat = lat2-lat1\n",
    "    deltaLon = lon2-lon1\n",
    "\n",
    "    a = math.sin(deltaLat/2) * math.sin(deltaLat/2) + math.cos(lat1) * math.cos(lat2) * math.sin(deltaLon/2) * math.sin(deltaLon/2)\n",
    "    c = 2 * math.atan2(math.sqrt(a), math.sqrt(1-a))\n",
    "\n",
    "    return (earth_r * c).to(units(unit))"
   ]
  },
  {
   "cell_type": "code",
   "execution_count": 67,
   "metadata": {},
   "outputs": [],
   "source": [
    "def build_local_db(db, local_lat, local_lon, max_d):\n",
    "    \"\"\"\n",
    "    Generate a local database of severe reports from main SPC database\n",
    "    \"\"\"\n",
    "    # Initilize local database\n",
    "    db_local = pd.DataFrame(columns=db.columns)\n",
    "\n",
    "    # Calculate extent\n",
    "    n_extent = getNewLatLon(local_lat, local_lon, 360, max_d)[1]\n",
    "    s_extent = getNewLatLon(local_lat, local_lon, 180, max_d)[1]\n",
    "    e_extent = getNewLatLon(local_lat, local_lon, 90, max_d)[0]\n",
    "    w_extent = getNewLatLon(local_lat, local_lon, 270, max_d)[0]\n",
    "    \n",
    "    # Subset database based on on extent box\n",
    "    db = db.loc[(db.slat >= s_extent) & (db.slat <= n_extent) & (db.slon >= w_extent) & (db.slon <= e_extent)]\n",
    "    \n",
    "    # Get local LSRs within radius\n",
    "    for index, lsr in db.iterrows():\n",
    "        \n",
    "        # Get distance of lat lon pair\n",
    "        d = distanceBetweenPoints(local_lat, local_lon, lsr.slat, lsr.slon)\n",
    "\n",
    "        # Check if within acceptable range\n",
    "        if d <= max_distance:\n",
    "            db_local = db_local.append(lsr)\n",
    "            \n",
    "    # Set data types\n",
    "    db_local = db_local.astype({'yr': 'int32'})\n",
    "    db_local = db_local.astype({'mo': 'int32'})\n",
    "    db_local = db_local.astype({'dy': 'int32'})\n",
    "    db_local = db_local.astype({'mag': 'float64'})\n",
    "    \n",
    "    # Convert time from CST (UTC-6) to UTC\n",
    "    db_local.time = pd.to_datetime(db_local.time, format='%H:%M:%S')\n",
    "    db_local.time = db_local.time + timedelta(hours=6)\n",
    "    \n",
    "    # Bin time based on hour\n",
    "    db_local.time = db_local.time.dt.hour\n",
    "    \n",
    "    return db_local"
   ]
  },
  {
   "cell_type": "code",
   "execution_count": 68,
   "metadata": {},
   "outputs": [],
   "source": [
    "latitude  = 35.14\n",
    "longitude = -111.67\n",
    "max_distance = 150 * units.km"
   ]
  },
  {
   "cell_type": "code",
   "execution_count": 69,
   "metadata": {},
   "outputs": [
    {
     "name": "stderr",
     "output_type": "stream",
     "text": [
      "/usr/local/lib/python3.7/dist-packages/IPython/core/interactiveshell.py:3063: DtypeWarning: Columns (28) have mixed types.Specify dtype option on import or set low_memory=False.\n",
      "  interactivity=interactivity, compiler=compiler, result=result)\n"
     ]
    }
   ],
   "source": [
    "# Load Tornado LSR data\n",
    "tor = pd.read_csv('data/1950-2019_torn.csv')\n",
    "tor = tor[['yr', 'mo', 'dy', 'time', 'mag', 'slat', 'slon', 'elat', 'elon']]\n",
    "\n",
    "# Load Hail LSR data\n",
    "hail = pd.read_csv('data/1955-2019_hail.csv')\n",
    "hail = hail[['yr', 'mo', 'dy', 'time', 'mag', 'slat', 'slon', 'elat', 'elon']]\n",
    "\n",
    "# Load Wind LSR data\n",
    "wind = pd.read_csv('data/1955-2019_wind.csv')\n",
    "wind = wind[['yr', 'mo', 'dy', 'time', 'mag', 'slat', 'slon', 'elat', 'elon']]"
   ]
  },
  {
   "cell_type": "code",
   "execution_count": 70,
   "metadata": {},
   "outputs": [
    {
     "data": {
      "text/html": [
       "<div>\n",
       "<style scoped>\n",
       "    .dataframe tbody tr th:only-of-type {\n",
       "        vertical-align: middle;\n",
       "    }\n",
       "\n",
       "    .dataframe tbody tr th {\n",
       "        vertical-align: top;\n",
       "    }\n",
       "\n",
       "    .dataframe thead th {\n",
       "        text-align: right;\n",
       "    }\n",
       "</style>\n",
       "<table border=\"1\" class=\"dataframe\">\n",
       "  <thead>\n",
       "    <tr style=\"text-align: right;\">\n",
       "      <th></th>\n",
       "      <th>mo</th>\n",
       "      <th>dy</th>\n",
       "      <th>time</th>\n",
       "      <th>mag</th>\n",
       "    </tr>\n",
       "  </thead>\n",
       "  <tbody>\n",
       "    <tr>\n",
       "      <th>count</th>\n",
       "      <td>77.000000</td>\n",
       "      <td>77.000000</td>\n",
       "      <td>77.000000</td>\n",
       "      <td>77.000000</td>\n",
       "    </tr>\n",
       "    <tr>\n",
       "      <th>mean</th>\n",
       "      <td>7.896104</td>\n",
       "      <td>14.714286</td>\n",
       "      <td>15.948052</td>\n",
       "      <td>0.350649</td>\n",
       "    </tr>\n",
       "    <tr>\n",
       "      <th>std</th>\n",
       "      <td>2.179959</td>\n",
       "      <td>7.870426</td>\n",
       "      <td>7.089459</td>\n",
       "      <td>0.756833</td>\n",
       "    </tr>\n",
       "    <tr>\n",
       "      <th>min</th>\n",
       "      <td>1.000000</td>\n",
       "      <td>1.000000</td>\n",
       "      <td>0.000000</td>\n",
       "      <td>0.000000</td>\n",
       "    </tr>\n",
       "    <tr>\n",
       "      <th>25%</th>\n",
       "      <td>7.000000</td>\n",
       "      <td>6.000000</td>\n",
       "      <td>14.000000</td>\n",
       "      <td>0.000000</td>\n",
       "    </tr>\n",
       "    <tr>\n",
       "      <th>50%</th>\n",
       "      <td>8.000000</td>\n",
       "      <td>15.000000</td>\n",
       "      <td>19.000000</td>\n",
       "      <td>0.000000</td>\n",
       "    </tr>\n",
       "    <tr>\n",
       "      <th>75%</th>\n",
       "      <td>10.000000</td>\n",
       "      <td>20.000000</td>\n",
       "      <td>21.000000</td>\n",
       "      <td>0.000000</td>\n",
       "    </tr>\n",
       "    <tr>\n",
       "      <th>max</th>\n",
       "      <td>11.000000</td>\n",
       "      <td>31.000000</td>\n",
       "      <td>23.000000</td>\n",
       "      <td>3.000000</td>\n",
       "    </tr>\n",
       "  </tbody>\n",
       "</table>\n",
       "</div>"
      ],
      "text/plain": [
       "              mo         dy       time        mag\n",
       "count  77.000000  77.000000  77.000000  77.000000\n",
       "mean    7.896104  14.714286  15.948052   0.350649\n",
       "std     2.179959   7.870426   7.089459   0.756833\n",
       "min     1.000000   1.000000   0.000000   0.000000\n",
       "25%     7.000000   6.000000  14.000000   0.000000\n",
       "50%     8.000000  15.000000  19.000000   0.000000\n",
       "75%    10.000000  20.000000  21.000000   0.000000\n",
       "max    11.000000  31.000000  23.000000   3.000000"
      ]
     },
     "execution_count": 70,
     "metadata": {},
     "output_type": "execute_result"
    }
   ],
   "source": [
    "# Get local Tornado LSR data\n",
    "tor_local = build_local_db(tor, latitude, longitude, max_distance)\n",
    "tor_local[['mo', 'dy', 'time', 'mag']].describe()"
   ]
  },
  {
   "cell_type": "code",
   "execution_count": 84,
   "metadata": {},
   "outputs": [
    {
     "data": {
      "image/png": "[encoded data removed]",
      "text/plain": [
       "<Figure size 1440x576 with 3 Axes>"
      ]
     },
     "metadata": {
      "needs_background": "light"
     },
     "output_type": "display_data"
    }
   ],
   "source": [
    "# Create plot for Tornado LSR data\n",
    "fig, (ax0, ax1, ax2) = plt.subplots(nrows=1, ncols=3, figsize=(20, 8))\n",
    "\n",
    "\n",
    "tor_local.hist('mo', ax=ax0)\n",
    "tor_local.hist('time', ax=ax1)\n",
    "tor_local.hist('mag', ax=ax2)\n",
    "\n",
    "ax0.set_title('Frequency by Month')\n",
    "ax0.set_xlim(1, 12)\n",
    "\n",
    "ax1.set_title('Frequency by Time (UTC)')\n",
    "ax2.set_xlim(0, 23)\n",
    "\n",
    "ax2.set_title('Frequency by Magnitude (EF-Scale)')\n",
    "ax2.set_xlim(0, 5)\n",
    "\n",
    "plt.suptitle(f'Tornado LSRs within {max_distance} of {latitude}, {longitude} from 1950-2019', size=18)\n",
    "\n",
    "plt.show()"
   ]
  },
  {
   "cell_type": "code",
   "execution_count": 72,
   "metadata": {},
   "outputs": [
    {
     "data": {
      "text/html": [
       "<div>\n",
       "<style scoped>\n",
       "    .dataframe tbody tr th:only-of-type {\n",
       "        vertical-align: middle;\n",
       "    }\n",
       "\n",
       "    .dataframe tbody tr th {\n",
       "        vertical-align: top;\n",
       "    }\n",
       "\n",
       "    .dataframe thead th {\n",
       "        text-align: right;\n",
       "    }\n",
       "</style>\n",
       "<table border=\"1\" class=\"dataframe\">\n",
       "  <thead>\n",
       "    <tr style=\"text-align: right;\">\n",
       "      <th></th>\n",
       "      <th>mo</th>\n",
       "      <th>dy</th>\n",
       "      <th>time</th>\n",
       "      <th>mag</th>\n",
       "    </tr>\n",
       "  </thead>\n",
       "  <tbody>\n",
       "    <tr>\n",
       "      <th>count</th>\n",
       "      <td>365.000000</td>\n",
       "      <td>365.000000</td>\n",
       "      <td>365.000000</td>\n",
       "      <td>365.000000</td>\n",
       "    </tr>\n",
       "    <tr>\n",
       "      <th>mean</th>\n",
       "      <td>7.887671</td>\n",
       "      <td>14.843836</td>\n",
       "      <td>16.287671</td>\n",
       "      <td>1.090082</td>\n",
       "    </tr>\n",
       "    <tr>\n",
       "      <th>std</th>\n",
       "      <td>1.338765</td>\n",
       "      <td>8.482383</td>\n",
       "      <td>7.813203</td>\n",
       "      <td>0.456048</td>\n",
       "    </tr>\n",
       "    <tr>\n",
       "      <th>min</th>\n",
       "      <td>2.000000</td>\n",
       "      <td>1.000000</td>\n",
       "      <td>0.000000</td>\n",
       "      <td>0.750000</td>\n",
       "    </tr>\n",
       "    <tr>\n",
       "      <th>25%</th>\n",
       "      <td>7.000000</td>\n",
       "      <td>8.000000</td>\n",
       "      <td>15.000000</td>\n",
       "      <td>0.750000</td>\n",
       "    </tr>\n",
       "    <tr>\n",
       "      <th>50%</th>\n",
       "      <td>8.000000</td>\n",
       "      <td>14.000000</td>\n",
       "      <td>20.000000</td>\n",
       "      <td>1.000000</td>\n",
       "    </tr>\n",
       "    <tr>\n",
       "      <th>75%</th>\n",
       "      <td>9.000000</td>\n",
       "      <td>22.000000</td>\n",
       "      <td>21.000000</td>\n",
       "      <td>1.000000</td>\n",
       "    </tr>\n",
       "    <tr>\n",
       "      <th>max</th>\n",
       "      <td>10.000000</td>\n",
       "      <td>31.000000</td>\n",
       "      <td>23.000000</td>\n",
       "      <td>4.500000</td>\n",
       "    </tr>\n",
       "  </tbody>\n",
       "</table>\n",
       "</div>"
      ],
      "text/plain": [
       "               mo          dy        time         mag\n",
       "count  365.000000  365.000000  365.000000  365.000000\n",
       "mean     7.887671   14.843836   16.287671    1.090082\n",
       "std      1.338765    8.482383    7.813203    0.456048\n",
       "min      2.000000    1.000000    0.000000    0.750000\n",
       "25%      7.000000    8.000000   15.000000    0.750000\n",
       "50%      8.000000   14.000000   20.000000    1.000000\n",
       "75%      9.000000   22.000000   21.000000    1.000000\n",
       "max     10.000000   31.000000   23.000000    4.500000"
      ]
     },
     "execution_count": 72,
     "metadata": {},
     "output_type": "execute_result"
    }
   ],
   "source": [
    "# Get local Hail LSR data\n",
    "hail_local = build_local_db(hail, latitude, longitude, max_distance)\n",
    "hail_local[['mo', 'dy', 'time', 'mag']].describe()"
   ]
  },
  {
   "cell_type": "code",
   "execution_count": 83,
   "metadata": {},
   "outputs": [
    {
     "data": {
      "image/png": "[encoded data removed]",
      "text/plain": [
       "<Figure size 1440x576 with 3 Axes>"
      ]
     },
     "metadata": {
      "needs_background": "light"
     },
     "output_type": "display_data"
    }
   ],
   "source": [
    "# Create plot for Hail LSR data\n",
    "fig, (ax0, ax1, ax2) = plt.subplots(nrows=1, ncols=3, figsize=(20, 8))\n",
    "\n",
    "hail_local.hist('mo', ax=ax0)\n",
    "hail_local.hist('time', ax=ax1)\n",
    "hail_local.hist('mag', ax=ax2)\n",
    "\n",
    "ax0.set_title('Frequency by Month')\n",
    "ax0.set_xlim(1, 12)\n",
    "\n",
    "ax1.set_title('Frequency by Time (UTC)')\n",
    "ax1.set_xlim(0, 23)\n",
    "\n",
    "ax2.set_title('Frequency by Magnitude (inches)')\n",
    "ax2.set_xlim(0, 5)\n",
    "\n",
    "plt.suptitle(f'Hail LSRs within {max_distance} of {latitude}, {longitude} from 1955-2019', size=18)\n",
    "\n",
    "plt.show()"
   ]
  },
  {
   "cell_type": "code",
   "execution_count": 74,
   "metadata": {},
   "outputs": [
    {
     "name": "stdout",
     "output_type": "stream",
     "text": [
      "The history saving thread hit an unexpected error (OperationalError('database is locked')).History will not be written to the database.\n"
     ]
    },
    {
     "data": {
      "text/html": [
       "<div>\n",
       "<style scoped>\n",
       "    .dataframe tbody tr th:only-of-type {\n",
       "        vertical-align: middle;\n",
       "    }\n",
       "\n",
       "    .dataframe tbody tr th {\n",
       "        vertical-align: top;\n",
       "    }\n",
       "\n",
       "    .dataframe thead th {\n",
       "        text-align: right;\n",
       "    }\n",
       "</style>\n",
       "<table border=\"1\" class=\"dataframe\">\n",
       "  <thead>\n",
       "    <tr style=\"text-align: right;\">\n",
       "      <th></th>\n",
       "      <th>mo</th>\n",
       "      <th>dy</th>\n",
       "      <th>time</th>\n",
       "      <th>mag</th>\n",
       "    </tr>\n",
       "  </thead>\n",
       "  <tbody>\n",
       "    <tr>\n",
       "      <th>count</th>\n",
       "      <td>210.000000</td>\n",
       "      <td>210.000000</td>\n",
       "      <td>210.000000</td>\n",
       "      <td>210.000000</td>\n",
       "    </tr>\n",
       "    <tr>\n",
       "      <th>mean</th>\n",
       "      <td>7.342857</td>\n",
       "      <td>15.080952</td>\n",
       "      <td>11.685714</td>\n",
       "      <td>44.857143</td>\n",
       "    </tr>\n",
       "    <tr>\n",
       "      <th>std</th>\n",
       "      <td>1.419809</td>\n",
       "      <td>9.238370</td>\n",
       "      <td>9.996472</td>\n",
       "      <td>22.690313</td>\n",
       "    </tr>\n",
       "    <tr>\n",
       "      <th>min</th>\n",
       "      <td>1.000000</td>\n",
       "      <td>1.000000</td>\n",
       "      <td>0.000000</td>\n",
       "      <td>0.000000</td>\n",
       "    </tr>\n",
       "    <tr>\n",
       "      <th>25%</th>\n",
       "      <td>7.000000</td>\n",
       "      <td>6.000000</td>\n",
       "      <td>1.000000</td>\n",
       "      <td>50.000000</td>\n",
       "    </tr>\n",
       "    <tr>\n",
       "      <th>50%</th>\n",
       "      <td>7.000000</td>\n",
       "      <td>15.000000</td>\n",
       "      <td>13.000000</td>\n",
       "      <td>52.000000</td>\n",
       "    </tr>\n",
       "    <tr>\n",
       "      <th>75%</th>\n",
       "      <td>8.000000</td>\n",
       "      <td>24.000000</td>\n",
       "      <td>22.000000</td>\n",
       "      <td>58.000000</td>\n",
       "    </tr>\n",
       "    <tr>\n",
       "      <th>max</th>\n",
       "      <td>11.000000</td>\n",
       "      <td>31.000000</td>\n",
       "      <td>23.000000</td>\n",
       "      <td>100.000000</td>\n",
       "    </tr>\n",
       "  </tbody>\n",
       "</table>\n",
       "</div>"
      ],
      "text/plain": [
       "               mo          dy        time         mag\n",
       "count  210.000000  210.000000  210.000000  210.000000\n",
       "mean     7.342857   15.080952   11.685714   44.857143\n",
       "std      1.419809    9.238370    9.996472   22.690313\n",
       "min      1.000000    1.000000    0.000000    0.000000\n",
       "25%      7.000000    6.000000    1.000000   50.000000\n",
       "50%      7.000000   15.000000   13.000000   52.000000\n",
       "75%      8.000000   24.000000   22.000000   58.000000\n",
       "max     11.000000   31.000000   23.000000  100.000000"
      ]
     },
     "execution_count": 74,
     "metadata": {},
     "output_type": "execute_result"
    }
   ],
   "source": [
    "# Get local Wind LSR data\n",
    "wind_local = build_local_db(wind, latitude, longitude, max_distance)\n",
    "wind_local[['mo', 'dy', 'time', 'mag']].describe()"
   ]
  },
  {
   "cell_type": "code",
   "execution_count": 82,
   "metadata": {},
   "outputs": [
    {
     "data": {
      "image/png": "[encoded data removed]",
      "text/plain": [
       "<Figure size 1152x576 with 3 Axes>"
      ]
     },
     "metadata": {
      "needs_background": "light"
     },
     "output_type": "display_data"
    }
   ],
   "source": [
    "# Create plot for Wind LSR data\n",
    "fig, (ax0, ax1, ax2) = plt.subplots(nrows=1, ncols=3, figsize=(16, 8))\n",
    "\n",
    "wind_local.hist('mo', ax=ax0)\n",
    "wind_local.hist('time', ax=ax1)\n",
    "wind_local.hist('mag', ax=ax2)\n",
    "\n",
    "ax0.set_title('Frequency by Month')\n",
    "ax0.set_xlim(1, 12)\n",
    "\n",
    "ax1.set_title('Frequency by Time (UTC)')\n",
    "ax1.set_xlim(0, 23)\n",
    "\n",
    "ax2.set_title('Frequency by Magnitude (kts)')\n",
    "ax2.set_xlim(0, 100)\n",
    "\n",
    "plt.suptitle(f'Wind LSRs within {max_distance} of {latitude}, {longitude} from 1955-2019', size=18)\n",
    "\n",
    "plt.show()"
   ]
  },
  {
   "cell_type": "code",
   "execution_count": null,
   "metadata": {},
   "outputs": [],
   "source": []
  }
 ],
 "metadata": {
  "kernelspec": {
   "display_name": "Python 3",
   "language": "python",
   "name": "python3"
  },
  "language_info": {
   "codemirror_mode": {
    "name": "ipython",
    "version": 3
   },
   "file_extension": ".py",
   "mimetype": "text/x-python",
   "name": "python",
   "nbconvert_exporter": "python",
   "pygments_lexer": "ipython3",
   "version": "3.7.3"
  }
 },
 "nbformat": 4,
 "nbformat_minor": 4
}
